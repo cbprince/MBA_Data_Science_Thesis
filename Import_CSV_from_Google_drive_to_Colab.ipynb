{
  "nbformat": 4,
  "nbformat_minor": 0,
  "metadata": {
    "colab": {
      "provenance": [],
      "authorship_tag": "ABX9TyNKHg7SAkEvgO2hO5vZUA3m",
      "include_colab_link": true
    },
    "kernelspec": {
      "name": "python3",
      "display_name": "Python 3"
    },
    "language_info": {
      "name": "python"
    }
  },
  "cells": [
    {
      "cell_type": "markdown",
      "metadata": {
        "id": "view-in-github",
        "colab_type": "text"
      },
      "source": [
        "<a href=\"https://colab.research.google.com/github/cbprince/MBA_Data_Science_Thesis/blob/main/Import_CSV_from_Google_drive_to_Colab.ipynb\" target=\"_parent\"><img src=\"https://colab.research.google.com/assets/colab-badge.svg\" alt=\"Open In Colab\"/></a>"
      ]
    },
    {
      "cell_type": "code",
      "execution_count": null,
      "metadata": {
        "colab": {
          "base_uri": "https://localhost:8080/"
        },
        "id": "ZrYE8PAv5bnx",
        "outputId": "4333bd6c-3c23-46ff-da30-563cbffe9b54"
      },
      "outputs": [
        {
          "output_type": "stream",
          "name": "stdout",
          "text": [
            "Mounted at /content/drive\n"
          ]
        }
      ],
      "source": [
        "from google.colab import drive\n",
        "drive.mount('/content/drive')"
      ]
    },
    {
      "cell_type": "code",
      "source": [
        "import pandas as pd\n",
        "df = pd.read_csv('/content/drive/MyDrive/Colab Notebooks/sample_data/death-rates-from-disasters.csv')\n",
        "info = df.info()"
      ],
      "metadata": {
        "colab": {
          "base_uri": "https://localhost:8080/"
        },
        "id": "5pI-9pMV8Jw6",
        "outputId": "4375a060-fa1b-40d6-a1b5-cdca54cf80e5"
      },
      "execution_count": null,
      "outputs": [
        {
          "output_type": "stream",
          "name": "stdout",
          "text": [
            "<class 'pandas.core.frame.DataFrame'>\n",
            "RangeIndex: 6840 entries, 0 to 6839\n",
            "Data columns (total 4 columns):\n",
            " #   Column                                                                    Non-Null Count  Dtype  \n",
            "---  ------                                                                    --------------  -----  \n",
            " 0   Entity                                                                    6840 non-null   object \n",
            " 1   Code                                                                      6150 non-null   object \n",
            " 2   Year                                                                      6840 non-null   int64  \n",
            " 3   Deaths - Exposure to forces of nature - Sex: Both - Age: All Ages (Rate)  6840 non-null   float64\n",
            "dtypes: float64(1), int64(1), object(2)\n",
            "memory usage: 213.9+ KB\n"
          ]
        }
      ]
    }
  ]
}